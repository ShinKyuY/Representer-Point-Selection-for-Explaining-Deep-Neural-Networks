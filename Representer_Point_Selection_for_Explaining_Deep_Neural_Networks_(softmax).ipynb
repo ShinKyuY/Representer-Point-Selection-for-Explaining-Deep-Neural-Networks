{
  "nbformat": 4,
  "nbformat_minor": 0,
  "metadata": {
    "accelerator": "GPU",
    "colab": {
      "name": "Representer Point Selection for Explaining Deep Neural Networks (softmax).ipynb",
      "provenance": [],
      "collapsed_sections": []
    },
    "kernelspec": {
      "name": "python3",
      "display_name": "Python 3"
    },
    "language_info": {
      "codemirror_mode": {
        "name": "ipython",
        "version": 3
      },
      "file_extension": ".py",
      "mimetype": "text/x-python",
      "name": "python",
      "nbconvert_exporter": "python",
      "pygments_lexer": "ipython3",
      "version": "3.7.1"
    }
  },
  "cells": [
    {
      "cell_type": "code",
      "metadata": {
        "colab_type": "code",
        "id": "vSyAcEB0oFHP",
        "colab": {
          "base_uri": "https://localhost:8080/",
          "height": 62
        },
        "outputId": "2d6ac455-6151-4216-ec73-9581a24dc774"
      },
      "source": [
        "import tensorflow as tf\n",
        "import numpy as np\n",
        "import sys\n",
        "import matplotlib.pyplot as plt\n",
        "import torch\n",
        "import torch.nn as nn\n",
        "import torch.optim as optim\n",
        "from torch.autograd import Variable\n",
        "import math\n",
        "dtype = torch.cuda.FloatTensor\n",
        "import time"
      ],
      "execution_count": 1,
      "outputs": [
        {
          "output_type": "display_data",
          "data": {
            "text/html": [
              "<p style=\"color: red;\">\n",
              "The default version of TensorFlow in Colab will soon switch to TensorFlow 2.x.<br>\n",
              "We recommend you <a href=\"https://www.tensorflow.org/guide/migrate\" target=\"_blank\">upgrade</a> now \n",
              "or ensure your notebook will continue to use TensorFlow 1.x via the <code>%tensorflow_version 1.x</code> magic:\n",
              "<a href=\"https://colab.research.google.com/notebooks/tensorflow_version.ipynb\" target=\"_blank\">more info</a>.</p>\n"
            ],
            "text/plain": [
              "<IPython.core.display.HTML object>"
            ]
          },
          "metadata": {
            "tags": []
          }
        }
      ]
    },
    {
      "cell_type": "code",
      "metadata": {
        "id": "7uDhAOkGSFt4",
        "colab_type": "code",
        "colab": {}
      },
      "source": [
        "class softmax(nn.Module):\n",
        "    def __init__(self, W):\n",
        "        super(softmax, self).__init__()\n",
        "        self.W = Variable(torch.from_numpy(W).type(dtype), requires_grad=True)\n",
        "\n",
        "    def forward(self, x, y):\n",
        "        # calculate loss for the loss function and L2 regularizer\n",
        "        D = (torch.matmul(x,self.W))\n",
        "        D_max,_ = torch.max(D,dim = 1, keepdim = True)\n",
        "        D = D-D_max\n",
        "        # compute log softmax\n",
        "        A = torch.log(torch.sum(torch.exp(D),dim = 1))\n",
        "        B = torch.sum(D*y,dim=1)\n",
        "        Phi = torch.sum(A-B)\n",
        "        # L2 regularizer\n",
        "        W1 = torch.squeeze(self.W)\n",
        "        L2 = torch.sum(torch.mul(W1, W1))\n",
        "        return (Phi, L2)\n",
        "\n",
        "def softmax_np(x):\n",
        "    e_x = np.exp(x - np.max(x,axis = 1,keepdims = True))\n",
        "    return e_x / e_x.sum(axis = 1,keepdims = True)\n",
        "\n",
        "\n",
        "def to_np(x):\n",
        "    return x.data.cpu().numpy()\n",
        "\n",
        "# implmentation for backtracking line search\n",
        "def backtracking_line_search(model,grad,x,y,val,beta,N,lmbd):\n",
        "    t = 10.0\n",
        "    beta = 0.5\n",
        "    W_O = to_np(model.W)\n",
        "    grad_np = to_np(grad)\n",
        "    while(True):\n",
        "        model.W = Variable(torch.from_numpy(W_O-t*grad_np).type(dtype), requires_grad=True)\n",
        "        val_n = 0.0\n",
        "        (Phi,L2) = model(x,y)\n",
        "        val_n = Phi/N + L2*lmbd\n",
        "        if t < 0.0000000001 :\n",
        "            print(\"t too small\")\n",
        "            break\n",
        "        if to_np(val_n - val + t*torch.norm(grad)**2/2)>=0:\n",
        "            t = beta *t\n",
        "        else:\n",
        "            break\n",
        "\n",
        "# calculation for softmax in torch, which avoids numerical overflow\n",
        "def softmax_torch(temp,N):\n",
        "    max_value,_ = torch.max(temp,1,keepdim = True)\n",
        "    temp = temp-max_value\n",
        "    D_exp = torch.exp(temp)\n",
        "    D_exp_sum = torch.sum(D_exp, dim=1).view(N,1)\n",
        "    return D_exp.div(D_exp_sum.expand_as(D_exp))\n",
        "\n",
        "def train(X, Y, model, epoch, lmbd):\n",
        "    x = Variable(torch.FloatTensor(X).cuda())\n",
        "    y = Variable(torch.FloatTensor(Y).cuda())\n",
        "    N = len(Y)\n",
        "    min_loss = 10000.0\n",
        "    optimizer = optim.SGD([model.W],lr = 1.0)\n",
        "    for epoch in range(epoch):\n",
        "        sum_loss = 0\n",
        "        phi_loss = 0\n",
        "        optimizer.zero_grad()\n",
        "        (Phi,L2) = model(x,y)\n",
        "        loss = L2*lmbd + Phi/N\n",
        "        phi_loss += to_np(Phi/N)\n",
        "        loss.backward()\n",
        "        temp_W = model.W.data\n",
        "        grad_loss = to_np(torch.mean(torch.abs(model.W.grad)))\n",
        "        # save the W with lowest loss\n",
        "        if grad_loss < min_loss:\n",
        "            if epoch ==0:\n",
        "                init_grad = grad_loss\n",
        "            min_loss = grad_loss\n",
        "            best_W = temp_W\n",
        "            if min_loss < init_grad/200:\n",
        "                print('stopping criteria reached in epoch :{}'.format(epoch))\n",
        "                break\n",
        "        backtracking_line_search(model,model.W.grad,x,y,loss,0.5,N,lmbd)\n",
        "        if epoch % 100 == 0:\n",
        "            print('Epoch:{:4d}\\tloss:{}\\tphi_loss:{}\\tgrad:{}'.format(epoch, to_np(loss), phi_loss, grad_loss))\n",
        "\n",
        "    # caluculate w based on the representer theorem's decomposition\n",
        "    temp = torch.matmul(x,Variable(best_W))\n",
        "    softmax_value = softmax_torch(temp, N)\n",
        "    # derivative of softmax cross entropy respect to features, compute alpha\n",
        "    derivative = softmax_value-y\n",
        "    alpha = torch.div(derivative,(-2.0*lmbd*N))\n",
        "    # compute weight\n",
        "    w = torch.matmul(torch.t(x), alpha)\n",
        "    # calculate y_p, which is the prediction based on decomposition of w by representer theorem\n",
        "    temp = torch.matmul(x, w.cuda())\n",
        "    softmax_value = softmax_torch(temp, N)\n",
        "    y_p = to_np(softmax_value)\n",
        "\n",
        "    print('L1 difference between ground truth prediction and prediction by representer theorem decomposition')\n",
        "    print(np.mean(np.abs(to_np(y)-y_p)))\n",
        "\n",
        "    from scipy.stats.stats import pearsonr\n",
        "    print('pearson correlation between ground truth  prediction and prediciton by representer theorem')\n",
        "    y = to_np(y)\n",
        "    corr,_ = (pearsonr(y.flatten(),(y_p).flatten()))\n",
        "    print(corr)\n",
        "    sys.stdout.flush()\n",
        "    return to_np(alpha), to_np(softmax_value)"
      ],
      "execution_count": 0,
      "outputs": []
    },
    {
      "cell_type": "code",
      "metadata": {
        "id": "wDz4Lo_KXlVY",
        "colab_type": "code",
        "colab": {}
      },
      "source": [
        "def one_hot(x, zero_index=True):\n",
        "    if zero_index:\n",
        "        return np.eye(max(x)+1)[x]\n",
        "    else:\n",
        "        return np.eye(max(x))[x]\n",
        "def normalize(x):\n",
        "    return (x.astype(np.float32) - 127.5)/127.5\n",
        "def reverse(x):\n",
        "    return (x.astype(np.float32)*127.5 + 127.5).astype(np.int32)"
      ],
      "execution_count": 0,
      "outputs": []
    },
    {
      "cell_type": "code",
      "metadata": {
        "id": "0TEsNqVWSI5s",
        "colab_type": "code",
        "colab": {}
      },
      "source": [
        "(X_train, Y_train), (X_test, Y_test) = tf.keras.datasets.cifar10.load_data()\n",
        "(X_train, Y_train), (X_test, Y_test) = (X_train[:10000], Y_train[:10000]), (X_test[:3000], Y_test[:3000]) "
      ],
      "execution_count": 0,
      "outputs": []
    },
    {
      "cell_type": "code",
      "metadata": {
        "id": "MCN-NCPXXlVb",
        "colab_type": "code",
        "colab": {}
      },
      "source": [
        "X_train = normalize(X_train)\n",
        "X_test = normalize(X_test)\n",
        "# X_train = np.expand_dims(X_train, -1)\n",
        "# X_test = np.expand_dims(X_test, -1)"
      ],
      "execution_count": 0,
      "outputs": []
    },
    {
      "cell_type": "code",
      "metadata": {
        "id": "BPgLEAG1XlVd",
        "colab_type": "code",
        "outputId": "ddae71e0-171f-4870-9262-3a7803c04d13",
        "colab": {
          "base_uri": "https://localhost:8080/",
          "height": 84
        }
      },
      "source": [
        "Y_train = one_hot(Y_train.flatten())\n",
        "Y_test = one_hot(Y_test.flatten())\n",
        "print('X_train shape:', X_train.shape)\n",
        "print('Y_train shape:', Y_train.shape)\n",
        "print('X_test shape:', X_test.shape)\n",
        "print('Y_test shape:', Y_test.shape)"
      ],
      "execution_count": 137,
      "outputs": [
        {
          "output_type": "stream",
          "text": [
            "X_train shape: (10000, 32, 32, 3)\n",
            "Y_train shape: (10000, 10)\n",
            "X_test shape: (3000, 32, 32, 3)\n",
            "Y_test shape: (3000, 10)\n"
          ],
          "name": "stdout"
        }
      ]
    },
    {
      "cell_type": "code",
      "metadata": {
        "id": "a2P10O4SXlVp",
        "colab_type": "code",
        "colab": {}
      },
      "source": [
        "def _conv(x, fil_n, ker_n, strides_n, activation=lambda x:x, init=tf.glorot_normal_initializer, pad=None):\n",
        "    if pad == 'REFLECT':\n",
        "        p = (ker_n - 1) // 2\n",
        "        x = tf.pad(x, [[0,0],[p,p],[p,p],[0,0]], 'REFLECT')\n",
        "        L = tf.layers.conv2d(x, filters=fil_n, kernel_size=ker_n, strides=strides_n, padding='valid', kernel_initializer=init)\n",
        "    else:\n",
        "        L=tf.layers.conv2d(x, filters=fil_n, kernel_size=ker_n, strides=strides_n, padding='same', kernel_initializer=init)\n",
        "    return activation(L)"
      ],
      "execution_count": 0,
      "outputs": []
    },
    {
      "cell_type": "code",
      "metadata": {
        "id": "gtrTXTIxXlVr",
        "colab_type": "code",
        "colab": {}
      },
      "source": [
        "def accuracy_op(logits, labels):\n",
        "    correct_prediction = tf.equal(tf.cast(tf.argmax(logits, 1), tf.int32), tf.cast(tf.argmax(labels, 1), tf.int32))\n",
        "    accuracy = tf.reduce_sum(tf.cast(correct_prediction, tf.int32))\n",
        "    return accuracy"
      ],
      "execution_count": 0,
      "outputs": []
    },
    {
      "cell_type": "code",
      "metadata": {
        "colab_type": "code",
        "id": "vg1W8scQoPpA",
        "colab": {}
      },
      "source": [
        "tf.reset_default_graph()\n",
        "lam = 0\n",
        "lr = 1e-2\n",
        "################################################\n",
        "sess=tf.Session()\n",
        "W_predict = tf.get_variable('W_softmax', shape = [4*4*64, 10], initializer = tf.glorot_normal_initializer)\n",
        "X = tf.placeholder(tf.float32, shape=[None, 32, 32, 3], name = 'X')\n",
        "Y = tf.placeholder(tf.float32, shape=[None, 10], name = 'Y')\n",
        "\n",
        "\n",
        "l1 = _conv(X, 256, 3, 2,  activation=tf.nn.relu)\n",
        "l2 = _conv(l1, 128, 3, 1,  activation=tf.nn.relu)\n",
        "l3 = _conv(l2, 128, 3, 2,  activation=tf.nn.relu)\n",
        "l4 = _conv(l3, 64, 3, 1,  activation=tf.nn.relu)\n",
        "l5 = _conv(l4, 64, 3, 2,  activation=tf.nn.relu)\n",
        "l6 = _conv(l5, 64, 3, 1,  activation=tf.nn.relu)\n",
        "\n",
        "feature = tf.reshape(l6, [-1, 4*4*64])\n",
        "logits = tf.matmul(feature, W_predict)\n",
        "prob = tf.nn.softmax(logits)\n",
        "\n",
        "\n",
        "var = tf.trainable_variables() \n",
        "lossL2 = tf.add_n([ tf.nn.l2_loss(v) for v in var ]) * lam\n",
        "cost = tf.losses.softmax_cross_entropy(onehot_labels=Y, logits=logits, label_smoothing=0.1)\n",
        "\n",
        "\n",
        "train_op = tf.train.AdamOptimizer(lr).minimize(cost+lossL2)\n",
        "\n",
        "\n",
        "acc = accuracy_op(logits, Y)\n",
        "\n",
        "sess.run(tf.global_variables_initializer())"
      ],
      "execution_count": 0,
      "outputs": []
    },
    {
      "cell_type": "code",
      "metadata": {
        "id": "dwSze6beXlVw",
        "colab_type": "code",
        "colab": {}
      },
      "source": [
        "batch=len(X_train)//512\n",
        "epochs=301\n",
        "for epoch in range(epochs+1):\n",
        "    epoch_tracc = []\n",
        "    for i in range(batch):\n",
        "        batch_xs, batch_ys = X_train[i*512:(i+1)*512], Y_train[i*512:(i+1)*512]\n",
        "        _, tr_acc =sess.run([train_op, acc], feed_dict={X:batch_xs, Y:batch_ys})  \n",
        "        epoch_tracc.append(tr_acc/len(batch_xs))\n",
        "    acc_tr = sum(epoch_tracc)/len(epoch_tracc)\n",
        "    acc_ts = sess.run(acc, feed_dict={X:X_test, Y:Y_test})\n",
        "    if epoch%50==0:\n",
        "      print('Train accuracy: ', np.round(acc_tr,3), ' Test accuracy: ', np.round(acc_ts/len(X_test), 3))"
      ],
      "execution_count": 0,
      "outputs": []
    },
    {
      "cell_type": "code",
      "metadata": {
        "colab_type": "code",
        "id": "RG9PZy8w4iBC",
        "colab": {}
      },
      "source": [
        "W = sess.run(W_predict)\n",
        "f = sess.run(feature, feed_dict={X:X_train, Y:Y_train})\n",
        "model = softmax(W)"
      ],
      "execution_count": 0,
      "outputs": []
    },
    {
      "cell_type": "code",
      "metadata": {
        "colab_type": "code",
        "outputId": "7f9e4883-18ed-4cbd-8dcc-a7ee8b0a81cc",
        "id": "K8Q0E05Pgocm",
        "colab": {
          "base_uri": "https://localhost:8080/",
          "height": 134
        }
      },
      "source": [
        "alpha, softmax_value = train(f, Y_train, model, 1000, 1e-3)"
      ],
      "execution_count": 145,
      "outputs": [
        {
          "output_type": "stream",
          "text": [
            "Epoch:   0\tloss:0.548069179058075\tphi_loss:0.2636142075061798\tgrad:0.0006703051622025669\n",
            "Epoch: 100\tloss:0.307928204536438\tphi_loss:0.15222102403640747\tgrad:3.033190114365425e-05\n",
            "stopping criteria reached in epoch :197\n",
            "L1 difference between ground truth prediction and prediction by representer theorem decomposition\n",
            "0.02427931\n",
            "pearson correlation between ground truth  prediction and prediciton by representer theorem\n",
            "0.9767308820807805\n"
          ],
          "name": "stdout"
        }
      ]
    },
    {
      "cell_type": "code",
      "metadata": {
        "id": "Y2Ug8mS8a7AJ",
        "colab_type": "code",
        "outputId": "5890594b-e996-40ff-e4ee-f8202c2d922a",
        "colab": {
          "base_uri": "https://localhost:8080/",
          "height": 296
        }
      },
      "source": [
        "test_index = 110\n",
        "c = np.argmax(Y_train[test_index])\n",
        "plt.imshow(reverse(X_train)[test_index])\n",
        "plt.title('%d' %c, size=50)\n",
        "plt.axis('off')\n",
        "plt.show()"
      ],
      "execution_count": 157,
      "outputs": [
        {
          "output_type": "display_data",
          "data": {
            "image/png": "[encoded data removed]",
            "text/plain": [
              "<Figure size 432x288 with 1 Axes>"
            ]
          },
          "metadata": {
            "tags": []
          }
        }
      ]
    },
    {
      "cell_type": "code",
      "metadata": {
        "id": "o7l4ba8DXlV1",
        "colab_type": "code",
        "colab": {}
      },
      "source": [
        "feature_ts = sess.run(feature, feed_dict={X:X_train[test_index].reshape(1, 32, 32 ,3)})"
      ],
      "execution_count": 0,
      "outputs": []
    },
    {
      "cell_type": "markdown",
      "metadata": {
        "id": "cb7potJa5uNn",
        "colab_type": "text"
      },
      "source": [
        "# Only one"
      ]
    },
    {
      "cell_type": "code",
      "metadata": {
        "id": "f3K_rLByXlWB",
        "colab_type": "code",
        "colab": {}
      },
      "source": [
        "only_test_class = False\n",
        "if only_test_class == True:\n",
        "    rv_list=[]\n",
        "    for idx in range(len(X_train)):\n",
        "        if np.argmax(Y_train[idx])==np.argmax(Y_test[test_index]):\n",
        "            representer_value = alpha[idx,c]*np.sum(f[idx]*feature_ts[0])\n",
        "            rv_list.append([idx, representer_value])\n",
        "    order=np.array(sorted(rv_list, key=lambda x: x[1])[::-1])[:,0]\n",
        "    order=np.asarray(order, dtype=np.int32)\n",
        "    rv_list= np.array(rv_list)\n",
        "else:\n",
        "    representer_value = alpha[:,c]*np.sum(f*feature_ts[0,:], axis=1)\n",
        "    rv_list = representer_value\n",
        "    order = np.argsort(representer_value)[::-1]"
      ],
      "execution_count": 0,
      "outputs": []
    },
    {
      "cell_type": "code",
      "metadata": {
        "id": "hbI29wgNuD7e",
        "colab_type": "code",
        "outputId": "dd2ca800-a457-4a1a-b0d9-249906edf844",
        "colab": {
          "base_uri": "https://localhost:8080/",
          "height": 50
        }
      },
      "source": [
        "print(softmax_value[8626,c], alpha[8626,c],np.sum(f[8626]*feature_ts[0]))\n",
        "print(softmax_value[9876,c], alpha[9876,c],np.sum(f[9876]*feature_ts[0]))"
      ],
      "execution_count": 160,
      "outputs": [
        {
          "output_type": "stream",
          "text": [
            "4.0197835e-07 -1.9857382e-08 7.444009\n",
            "8.650626e-05 -5.406028e-06 2.3680158\n"
          ],
          "name": "stdout"
        }
      ]
    },
    {
      "cell_type": "code",
      "metadata": {
        "id": "nvznSYt8XlWK",
        "colab_type": "code",
        "outputId": "7f2662b1-e9fc-4574-f6ad-707ae7f82228",
        "colab": {
          "base_uri": "https://localhost:8080/",
          "height": 169
        }
      },
      "source": [
        "fig = plt.figure(figsize=(18, 8))\n",
        "for i in range(1, 7):\n",
        "    ax = plt.subplot(1, 7, i)\n",
        "    if i == 1:\n",
        "        plt.imshow(reverse(X_train)[test_index])\n",
        "        ax.set_title('Test_image Pos')\n",
        "        ax.axis('off')\n",
        "    elif i == 2:\n",
        "        plt.imshow(reverse(X_train)[order][0])\n",
        "        ax.set_title('label: %d' % np.argmax(Y_train[order[0]]))\n",
        "        ax.axis('off')\n",
        "    elif i == 3:\n",
        "        plt.imshow(reverse(X_train)[order][1])\n",
        "        ax.axis('off')\n",
        "        ax.set_title('label: %d' %np.argmax(Y_train[order[1]]))\n",
        "    elif i == 4:\n",
        "        plt.imshow(reverse(X_train)[order][2])\n",
        "        ax.axis('off')\n",
        "        ax.set_title('label: %d' %np.argmax(Y_train[order[2]]))\n",
        "    elif i == 5:\n",
        "        plt.imshow(reverse(X_train)[order][3])\n",
        "        ax.axis('off')\n",
        "        ax.set_title('label: %d' %np.argmax(Y_train[order[3]]))\n",
        "    elif i == 6:\n",
        "        plt.imshow(reverse(X_train)[order][4])\n",
        "        ax.axis('off')\n",
        "        ax.set_title('label: %d' %np.argmax(Y_train[order[4]]))\n",
        "plt.show()"
      ],
      "execution_count": 161,
      "outputs": [
        {
          "output_type": "display_data",
          "data": {
            "image/png": "[encoded data removed]",
            "text/plain": [
              "<Figure size 1296x576 with 6 Axes>"
            ]
          },
          "metadata": {
            "tags": []
          }
        }
      ]
    },
    {
      "cell_type": "code",
      "metadata": {
        "id": "oJsp340aXlWN",
        "colab_type": "code",
        "outputId": "7514494c-e99e-4179-974f-3906ea156c68",
        "colab": {
          "base_uri": "https://localhost:8080/",
          "height": 169
        }
      },
      "source": [
        "fig = plt.figure(figsize=(18, 8))\n",
        "for i in range(1, 7):\n",
        "    ax = plt.subplot(1, 7, i)\n",
        "    if i == 1:\n",
        "        plt.imshow(reverse(X_train)[test_index])\n",
        "        ax.set_title('Test_image Neg')\n",
        "        ax.axis('off')\n",
        "    elif i == 2:\n",
        "        plt.imshow(reverse(X_train)[order][-1])\n",
        "        ax.set_title('label: %d' %np.argmax(Y_train[order[-1]]))\n",
        "        ax.axis('off')\n",
        "    elif i == 3:\n",
        "        plt.imshow(reverse(X_train)[order][-2])\n",
        "        ax.axis('off')\n",
        "        ax.set_title('label: %d' %np.argmax(Y_train[order[-2]]))\n",
        "    elif i == 4:\n",
        "        plt.imshow(reverse(X_train)[order][-3])\n",
        "        ax.axis('off')\n",
        "        ax.set_title('label: %d' %np.argmax(Y_train[order[-3]]))\n",
        "    elif i == 5:\n",
        "        plt.imshow(reverse(X_train)[order][-4])\n",
        "        ax.axis('off')\n",
        "        ax.set_title('label: %d' %np.argmax(Y_train[order[-4]]))\n",
        "    elif i == 6:\n",
        "        plt.imshow(reverse(X_train)[order][-5])\n",
        "        ax.axis('off')\n",
        "        ax.set_title('label: %d' %np.argmax(Y_train[order[-5]]))\n",
        "plt.show()"
      ],
      "execution_count": 162,
      "outputs": [
        {
          "output_type": "display_data",
          "data": {
            "image/png": "[encoded data removed]",
            "text/plain": [
              "<Figure size 1296x576 with 6 Axes>"
            ]
          },
          "metadata": {
            "tags": []
          }
        }
      ]
    }
  ]
}